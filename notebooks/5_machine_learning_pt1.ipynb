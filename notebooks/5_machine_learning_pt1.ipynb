{
 "cells": [
  {
   "cell_type": "markdown",
   "id": "7cf81d2b",
   "metadata": {},
   "source": [
    "# Build and Evaluate a Logistic Regression Model\n",
    "\n",
    "A logistic regression is a type of model which can be used when predicting a categorial outcome. Specifically, it outputs a predicted probability that an observation is in one class or the other.\n",
    "\n",
    "In this notebook, you'll see how to build a logistic regression model to predict presence or absence of heart disease in a patient based on 13 characteristics."
   ]
  },
  {
   "cell_type": "code",
   "execution_count": 1,
   "id": "ed7d259c",
   "metadata": {},
   "outputs": [],
   "source": [
    "import pandas as pd\n",
    "import matplotlib.pyplot as plt\n",
    "import seaborn as sns"
   ]
  },
  {
   "cell_type": "code",
   "execution_count": 2,
   "id": "97c39c76",
   "metadata": {},
   "outputs": [],
   "source": [
    "heart = pd.read_csv('../data/Heart.csv')"
   ]
  },
  {
   "cell_type": "code",
   "execution_count": 3,
   "id": "9cf1794d",
   "metadata": {},
   "outputs": [
    {
     "data": {
      "text/plain": [
       "(297, 14)"
      ]
     },
     "execution_count": 3,
     "metadata": {},
     "output_type": "execute_result"
    }
   ],
   "source": [
    "heart.shape"
   ]
  },
  {
   "cell_type": "code",
   "execution_count": 4,
   "id": "f6bd5f07",
   "metadata": {},
   "outputs": [
    {
     "data": {
      "text/html": [
       "<div>\n",
       "<style scoped>\n",
       "    .dataframe tbody tr th:only-of-type {\n",
       "        vertical-align: middle;\n",
       "    }\n",
       "\n",
       "    .dataframe tbody tr th {\n",
       "        vertical-align: top;\n",
       "    }\n",
       "\n",
       "    .dataframe thead th {\n",
       "        text-align: right;\n",
       "    }\n",
       "</style>\n",
       "<table border=\"1\" class=\"dataframe\">\n",
       "  <thead>\n",
       "    <tr style=\"text-align: right;\">\n",
       "      <th></th>\n",
       "      <th>Age</th>\n",
       "      <th>Sex</th>\n",
       "      <th>ChestPain</th>\n",
       "      <th>RestBP</th>\n",
       "      <th>Chol</th>\n",
       "      <th>Fbs</th>\n",
       "      <th>RestECG</th>\n",
       "      <th>MaxHR</th>\n",
       "      <th>ExAng</th>\n",
       "      <th>Oldpeak</th>\n",
       "      <th>Slope</th>\n",
       "      <th>Ca</th>\n",
       "      <th>Thal</th>\n",
       "      <th>AHD</th>\n",
       "    </tr>\n",
       "  </thead>\n",
       "  <tbody>\n",
       "    <tr>\n",
       "      <th>0</th>\n",
       "      <td>63</td>\n",
       "      <td>1</td>\n",
       "      <td>typical</td>\n",
       "      <td>145</td>\n",
       "      <td>233</td>\n",
       "      <td>1</td>\n",
       "      <td>2</td>\n",
       "      <td>150</td>\n",
       "      <td>0</td>\n",
       "      <td>2.3</td>\n",
       "      <td>3</td>\n",
       "      <td>0.0</td>\n",
       "      <td>fixed</td>\n",
       "      <td>No</td>\n",
       "    </tr>\n",
       "    <tr>\n",
       "      <th>1</th>\n",
       "      <td>67</td>\n",
       "      <td>1</td>\n",
       "      <td>asymptomatic</td>\n",
       "      <td>160</td>\n",
       "      <td>286</td>\n",
       "      <td>0</td>\n",
       "      <td>2</td>\n",
       "      <td>108</td>\n",
       "      <td>1</td>\n",
       "      <td>1.5</td>\n",
       "      <td>2</td>\n",
       "      <td>3.0</td>\n",
       "      <td>normal</td>\n",
       "      <td>Yes</td>\n",
       "    </tr>\n",
       "  </tbody>\n",
       "</table>\n",
       "</div>"
      ],
      "text/plain": [
       "   Age  Sex     ChestPain  RestBP  Chol  Fbs  RestECG  MaxHR  ExAng  Oldpeak  \\\n",
       "0   63    1       typical     145   233    1        2    150      0      2.3   \n",
       "1   67    1  asymptomatic     160   286    0        2    108      1      1.5   \n",
       "\n",
       "   Slope   Ca    Thal  AHD  \n",
       "0      3  0.0   fixed   No  \n",
       "1      2  3.0  normal  Yes  "
      ]
     },
     "execution_count": 4,
     "metadata": {},
     "output_type": "execute_result"
    }
   ],
   "source": [
    "heart.head(2)"
   ]
  },
  {
   "cell_type": "markdown",
   "id": "58b26ff9",
   "metadata": {},
   "source": [
    "The variables are as follows:\n",
    "\n",
    "|Variable | Description |\n",
    "|---|---|\n",
    "| Age | age in years |\n",
    "| Sex | Sex (0 = female; 1 = male;) |\n",
    "| ChestPain | chest pain type |\n",
    "| RestBP | resting blood pressure (in mm Hg on admission to the hospital) |\n",
    "| Chol | serum cholestoral in mg/dl |\n",
    "| Fbs | fasting blood sugar > 120 mg/dl (1 = true; 0 = false) |\n",
    "| RestECG | resting electrocardiographic results (0: normal; 1: having ST-T wave abnormality (T wave inversions and/or ST elevation or depression of > 0.05 mV); 2: showing probable or definite left ventricular hypertrophy by Estes' criteria) |\n",
    "| MaxHR | maximum heart rate achieved |\n",
    "| ExAng | exercise induced angina (0 = no, 1 = yes;) |\n",
    "| Oldpeak | ST depression induced by exercise relative to rest |\n",
    "| Slope | the slope of the peak exercise ST segment (1: upsloping; 2: flat; 3: downsloping) |\n",
    "| Ca | number of major vessels (0-3) colored by flourosopy |\n",
    "| Thal | Thallium stress test  | \n",
    "| AHD | Presence of heart disease (target) |"
   ]
  },
  {
   "cell_type": "code",
   "execution_count": 5,
   "id": "51c472bc",
   "metadata": {},
   "outputs": [
    {
     "data": {
      "text/plain": [
       "No     160\n",
       "Yes    137\n",
       "Name: AHD, dtype: int64"
      ]
     },
     "execution_count": 5,
     "metadata": {},
     "output_type": "execute_result"
    }
   ],
   "source": [
    "heart['AHD'].value_counts()"
   ]
  },
  {
   "cell_type": "markdown",
   "id": "491ce79a",
   "metadata": {},
   "source": [
    "We can see that 137 patients in our data do have a heart disease diagnosis and 160 do not."
   ]
  },
  {
   "cell_type": "markdown",
   "id": "c78cd0d3",
   "metadata": {},
   "source": [
    "First, let's do some exploratory analysis to see how the other variables relate to the target."
   ]
  },
  {
   "cell_type": "code",
   "execution_count": 6,
   "id": "f2e9320e",
   "metadata": {},
   "outputs": [
    {
     "data": {
      "text/html": [
       "<div>\n",
       "<style scoped>\n",
       "    .dataframe tbody tr th:only-of-type {\n",
       "        vertical-align: middle;\n",
       "    }\n",
       "\n",
       "    .dataframe tbody tr th {\n",
       "        vertical-align: top;\n",
       "    }\n",
       "\n",
       "    .dataframe thead th {\n",
       "        text-align: right;\n",
       "    }\n",
       "</style>\n",
       "<table border=\"1\" class=\"dataframe\">\n",
       "  <thead>\n",
       "    <tr style=\"text-align: right;\">\n",
       "      <th>AHD</th>\n",
       "      <th>No</th>\n",
       "      <th>Yes</th>\n",
       "    </tr>\n",
       "    <tr>\n",
       "      <th>Sex</th>\n",
       "      <th></th>\n",
       "      <th></th>\n",
       "    </tr>\n",
       "  </thead>\n",
       "  <tbody>\n",
       "    <tr>\n",
       "      <th>0</th>\n",
       "      <td>71</td>\n",
       "      <td>25</td>\n",
       "    </tr>\n",
       "    <tr>\n",
       "      <th>1</th>\n",
       "      <td>89</td>\n",
       "      <td>112</td>\n",
       "    </tr>\n",
       "  </tbody>\n",
       "</table>\n",
       "</div>"
      ],
      "text/plain": [
       "AHD  No  Yes\n",
       "Sex         \n",
       "0    71   25\n",
       "1    89  112"
      ]
     },
     "execution_count": 6,
     "metadata": {},
     "output_type": "execute_result"
    }
   ],
   "source": [
    "pd.crosstab(heart['Sex'], heart['AHD'])"
   ]
  },
  {
   "cell_type": "code",
   "execution_count": 7,
   "id": "795bf44d",
   "metadata": {},
   "outputs": [
    {
     "data": {
      "text/html": [
       "<div>\n",
       "<style scoped>\n",
       "    .dataframe tbody tr th:only-of-type {\n",
       "        vertical-align: middle;\n",
       "    }\n",
       "\n",
       "    .dataframe tbody tr th {\n",
       "        vertical-align: top;\n",
       "    }\n",
       "\n",
       "    .dataframe thead th {\n",
       "        text-align: right;\n",
       "    }\n",
       "</style>\n",
       "<table border=\"1\" class=\"dataframe\">\n",
       "  <thead>\n",
       "    <tr style=\"text-align: right;\">\n",
       "      <th>AHD</th>\n",
       "      <th>No</th>\n",
       "      <th>Yes</th>\n",
       "    </tr>\n",
       "    <tr>\n",
       "      <th>Sex</th>\n",
       "      <th></th>\n",
       "      <th></th>\n",
       "    </tr>\n",
       "  </thead>\n",
       "  <tbody>\n",
       "    <tr>\n",
       "      <th>0</th>\n",
       "      <td>0.739583</td>\n",
       "      <td>0.260417</td>\n",
       "    </tr>\n",
       "    <tr>\n",
       "      <th>1</th>\n",
       "      <td>0.442786</td>\n",
       "      <td>0.557214</td>\n",
       "    </tr>\n",
       "  </tbody>\n",
       "</table>\n",
       "</div>"
      ],
      "text/plain": [
       "AHD        No       Yes\n",
       "Sex                    \n",
       "0    0.739583  0.260417\n",
       "1    0.442786  0.557214"
      ]
     },
     "execution_count": 7,
     "metadata": {},
     "output_type": "execute_result"
    }
   ],
   "source": [
    "pd.crosstab(heart['Sex'], heart['AHD'], normalize = 'index')"
   ]
  },
  {
   "cell_type": "code",
   "execution_count": 8,
   "id": "7d9175dc",
   "metadata": {},
   "outputs": [
    {
     "data": {
      "image/png": "[encoded data removed]",
      "text/plain": [
       "<Figure size 432x288 with 1 Axes>"
      ]
     },
     "metadata": {
      "needs_background": "light"
     },
     "output_type": "display_data"
    }
   ],
   "source": [
    "ax = pd.crosstab(heart['Sex'], heart['AHD'], normalize = 'index').plot(kind = 'bar', \n",
    "                                                                       edgecolor = 'black',\n",
    "                                                                      figsize = (6,4))\n",
    "plt.xticks(rotation = 0)\n",
    "ax.set_xticklabels(['Female', 'Male'])\n",
    "plt.legend(loc = 'upper right')\n",
    "plt.ylabel('Proportion');"
   ]
  },
  {
   "cell_type": "code",
   "execution_count": 9,
   "id": "31966db7",
   "metadata": {},
   "outputs": [
    {
     "data": {
      "image/png": "[encoded data removed]",
      "text/plain": [
       "<Figure size 576x288 with 1 Axes>"
      ]
     },
     "metadata": {
      "needs_background": "light"
     },
     "output_type": "display_data"
    }
   ],
   "source": [
    "pd.crosstab(heart['RestECG'], heart['AHD'], normalize = 'index').plot(kind = 'bar', \n",
    "                                                                       edgecolor = 'black',\n",
    "                                                                      figsize = (8,4))\n",
    "plt.xticks(rotation = 0)\n",
    "plt.legend(loc = 'upper right')\n",
    "plt.ylabel('Proportion');"
   ]
  },
  {
   "cell_type": "code",
   "execution_count": 10,
   "id": "3f005dce",
   "metadata": {},
   "outputs": [
    {
     "data": {
      "image/png": "[encoded data removed]",
      "text/plain": [
       "<Figure size 576x288 with 1 Axes>"
      ]
     },
     "metadata": {
      "needs_background": "light"
     },
     "output_type": "display_data"
    }
   ],
   "source": [
    "plt.figure(figsize = (8,4))\n",
    "sns.boxplot(data = heart,\n",
    "           x = 'AHD',\n",
    "           y = 'Age');"
   ]
  },
  {
   "cell_type": "markdown",
   "id": "d20338b9",
   "metadata": {},
   "source": [
    "We've got several categorical variables. In order to use these with scikit-learn models, we'll need to encode them as a number. \n",
    "\n",
    "To accomplish this, we can use the `get_dummies` method."
   ]
  },
  {
   "cell_type": "code",
   "execution_count": 11,
   "id": "3a34d02a",
   "metadata": {},
   "outputs": [],
   "source": [
    "categorical_variables = ['ChestPain', 'RestECG', 'Slope', 'Thal']\n",
    "heart = pd.get_dummies(heart, columns = categorical_variables)"
   ]
  },
  {
   "cell_type": "code",
   "execution_count": 12,
   "id": "36c3beed",
   "metadata": {},
   "outputs": [
    {
     "data": {
      "text/html": [
       "<div>\n",
       "<style scoped>\n",
       "    .dataframe tbody tr th:only-of-type {\n",
       "        vertical-align: middle;\n",
       "    }\n",
       "\n",
       "    .dataframe tbody tr th {\n",
       "        vertical-align: top;\n",
       "    }\n",
       "\n",
       "    .dataframe thead th {\n",
       "        text-align: right;\n",
       "    }\n",
       "</style>\n",
       "<table border=\"1\" class=\"dataframe\">\n",
       "  <thead>\n",
       "    <tr style=\"text-align: right;\">\n",
       "      <th></th>\n",
       "      <th>Age</th>\n",
       "      <th>Sex</th>\n",
       "      <th>RestBP</th>\n",
       "      <th>Chol</th>\n",
       "      <th>Fbs</th>\n",
       "      <th>MaxHR</th>\n",
       "      <th>ExAng</th>\n",
       "      <th>Oldpeak</th>\n",
       "      <th>Ca</th>\n",
       "      <th>AHD</th>\n",
       "      <th>...</th>\n",
       "      <th>ChestPain_typical</th>\n",
       "      <th>RestECG_0</th>\n",
       "      <th>RestECG_1</th>\n",
       "      <th>RestECG_2</th>\n",
       "      <th>Slope_1</th>\n",
       "      <th>Slope_2</th>\n",
       "      <th>Slope_3</th>\n",
       "      <th>Thal_fixed</th>\n",
       "      <th>Thal_normal</th>\n",
       "      <th>Thal_reversable</th>\n",
       "    </tr>\n",
       "  </thead>\n",
       "  <tbody>\n",
       "    <tr>\n",
       "      <th>0</th>\n",
       "      <td>63</td>\n",
       "      <td>1</td>\n",
       "      <td>145</td>\n",
       "      <td>233</td>\n",
       "      <td>1</td>\n",
       "      <td>150</td>\n",
       "      <td>0</td>\n",
       "      <td>2.3</td>\n",
       "      <td>0.0</td>\n",
       "      <td>No</td>\n",
       "      <td>...</td>\n",
       "      <td>1</td>\n",
       "      <td>0</td>\n",
       "      <td>0</td>\n",
       "      <td>1</td>\n",
       "      <td>0</td>\n",
       "      <td>0</td>\n",
       "      <td>1</td>\n",
       "      <td>1</td>\n",
       "      <td>0</td>\n",
       "      <td>0</td>\n",
       "    </tr>\n",
       "    <tr>\n",
       "      <th>1</th>\n",
       "      <td>67</td>\n",
       "      <td>1</td>\n",
       "      <td>160</td>\n",
       "      <td>286</td>\n",
       "      <td>0</td>\n",
       "      <td>108</td>\n",
       "      <td>1</td>\n",
       "      <td>1.5</td>\n",
       "      <td>3.0</td>\n",
       "      <td>Yes</td>\n",
       "      <td>...</td>\n",
       "      <td>0</td>\n",
       "      <td>0</td>\n",
       "      <td>0</td>\n",
       "      <td>1</td>\n",
       "      <td>0</td>\n",
       "      <td>1</td>\n",
       "      <td>0</td>\n",
       "      <td>0</td>\n",
       "      <td>1</td>\n",
       "      <td>0</td>\n",
       "    </tr>\n",
       "    <tr>\n",
       "      <th>2</th>\n",
       "      <td>67</td>\n",
       "      <td>1</td>\n",
       "      <td>120</td>\n",
       "      <td>229</td>\n",
       "      <td>0</td>\n",
       "      <td>129</td>\n",
       "      <td>1</td>\n",
       "      <td>2.6</td>\n",
       "      <td>2.0</td>\n",
       "      <td>Yes</td>\n",
       "      <td>...</td>\n",
       "      <td>0</td>\n",
       "      <td>0</td>\n",
       "      <td>0</td>\n",
       "      <td>1</td>\n",
       "      <td>0</td>\n",
       "      <td>1</td>\n",
       "      <td>0</td>\n",
       "      <td>0</td>\n",
       "      <td>0</td>\n",
       "      <td>1</td>\n",
       "    </tr>\n",
       "    <tr>\n",
       "      <th>3</th>\n",
       "      <td>37</td>\n",
       "      <td>1</td>\n",
       "      <td>130</td>\n",
       "      <td>250</td>\n",
       "      <td>0</td>\n",
       "      <td>187</td>\n",
       "      <td>0</td>\n",
       "      <td>3.5</td>\n",
       "      <td>0.0</td>\n",
       "      <td>No</td>\n",
       "      <td>...</td>\n",
       "      <td>0</td>\n",
       "      <td>1</td>\n",
       "      <td>0</td>\n",
       "      <td>0</td>\n",
       "      <td>0</td>\n",
       "      <td>0</td>\n",
       "      <td>1</td>\n",
       "      <td>0</td>\n",
       "      <td>1</td>\n",
       "      <td>0</td>\n",
       "    </tr>\n",
       "    <tr>\n",
       "      <th>4</th>\n",
       "      <td>41</td>\n",
       "      <td>0</td>\n",
       "      <td>130</td>\n",
       "      <td>204</td>\n",
       "      <td>0</td>\n",
       "      <td>172</td>\n",
       "      <td>0</td>\n",
       "      <td>1.4</td>\n",
       "      <td>0.0</td>\n",
       "      <td>No</td>\n",
       "      <td>...</td>\n",
       "      <td>0</td>\n",
       "      <td>0</td>\n",
       "      <td>0</td>\n",
       "      <td>1</td>\n",
       "      <td>1</td>\n",
       "      <td>0</td>\n",
       "      <td>0</td>\n",
       "      <td>0</td>\n",
       "      <td>1</td>\n",
       "      <td>0</td>\n",
       "    </tr>\n",
       "  </tbody>\n",
       "</table>\n",
       "<p>5 rows × 23 columns</p>\n",
       "</div>"
      ],
      "text/plain": [
       "   Age  Sex  RestBP  Chol  Fbs  MaxHR  ExAng  Oldpeak   Ca  AHD  ...  \\\n",
       "0   63    1     145   233    1    150      0      2.3  0.0   No  ...   \n",
       "1   67    1     160   286    0    108      1      1.5  3.0  Yes  ...   \n",
       "2   67    1     120   229    0    129      1      2.6  2.0  Yes  ...   \n",
       "3   37    1     130   250    0    187      0      3.5  0.0   No  ...   \n",
       "4   41    0     130   204    0    172      0      1.4  0.0   No  ...   \n",
       "\n",
       "   ChestPain_typical  RestECG_0  RestECG_1  RestECG_2  Slope_1  Slope_2  \\\n",
       "0                  1          0          0          1        0        0   \n",
       "1                  0          0          0          1        0        1   \n",
       "2                  0          0          0          1        0        1   \n",
       "3                  0          1          0          0        0        0   \n",
       "4                  0          0          0          1        1        0   \n",
       "\n",
       "   Slope_3  Thal_fixed  Thal_normal  Thal_reversable  \n",
       "0        1           1            0                0  \n",
       "1        0           0            1                0  \n",
       "2        0           0            0                1  \n",
       "3        1           0            1                0  \n",
       "4        0           0            1                0  \n",
       "\n",
       "[5 rows x 23 columns]"
      ]
     },
     "execution_count": 12,
     "metadata": {},
     "output_type": "execute_result"
    }
   ],
   "source": [
    "heart.head()"
   ]
  },
  {
   "cell_type": "markdown",
   "id": "d1597752",
   "metadata": {},
   "source": [
    "Let's start with a simple model - predicting heart disease based on age."
   ]
  },
  {
   "cell_type": "code",
   "execution_count": 13,
   "id": "6d69a731",
   "metadata": {},
   "outputs": [],
   "source": [
    "X = heart[['Age']]                 # Predictor variable (as a DataFrame)\n",
    "y = heart['AHD']                   # Target"
   ]
  },
  {
   "cell_type": "markdown",
   "id": "e43d1def",
   "metadata": {},
   "source": [
    "The main objective is to have a model which makes good predictions on _unseen_ data. Therefore, in order to evaluate how good a model is, it is necessary to set aside some data as a test set for evaulation purposes. This can be accomplished using the `train_test_split` function."
   ]
  },
  {
   "cell_type": "code",
   "execution_count": 14,
   "id": "246ddd29",
   "metadata": {},
   "outputs": [],
   "source": [
    "from sklearn.model_selection import train_test_split"
   ]
  },
  {
   "cell_type": "code",
   "execution_count": 15,
   "id": "cbc49756",
   "metadata": {},
   "outputs": [],
   "source": [
    "X_train, X_test, y_train, y_test = train_test_split(X, y,\n",
    "                                                    stratify = y,     # Keep the same proportions of the target in the training and test data\n",
    "                                                    test_size = 0.25,\n",
    "                                                    random_state = 321)"
   ]
  },
  {
   "cell_type": "code",
   "execution_count": 16,
   "id": "a408c09b",
   "metadata": {},
   "outputs": [],
   "source": [
    "from sklearn.linear_model import LogisticRegression"
   ]
  },
  {
   "cell_type": "code",
   "execution_count": 17,
   "id": "3e3c8c01",
   "metadata": {},
   "outputs": [
    {
     "data": {
      "text/plain": [
       "LogisticRegression()"
      ]
     },
     "execution_count": 17,
     "metadata": {},
     "output_type": "execute_result"
    }
   ],
   "source": [
    "logreg = LogisticRegression()         # Create a logistic regression model\n",
    "logreg.fit(X_train, y_train)          # Fit it to the training data"
   ]
  },
  {
   "cell_type": "markdown",
   "id": "73cde38e",
   "metadata": {},
   "source": [
    "To understand the model, we can look at its coefficients."
   ]
  },
  {
   "cell_type": "code",
   "execution_count": 18,
   "id": "6747c12a",
   "metadata": {},
   "outputs": [
    {
     "data": {
      "text/plain": [
       "array([-2.90727934])"
      ]
     },
     "execution_count": 18,
     "metadata": {},
     "output_type": "execute_result"
    }
   ],
   "source": [
    "logreg.intercept_"
   ]
  },
  {
   "cell_type": "code",
   "execution_count": 19,
   "id": "b6a943c7",
   "metadata": {},
   "outputs": [
    {
     "data": {
      "text/plain": [
       "array([[0.04973534]])"
      ]
     },
     "execution_count": 19,
     "metadata": {},
     "output_type": "execute_result"
    }
   ],
   "source": [
    "logreg.coef_"
   ]
  },
  {
   "cell_type": "code",
   "execution_count": 20,
   "id": "cdcacd05",
   "metadata": {},
   "outputs": [],
   "source": [
    "y_pred_prob = logreg.predict_proba(X_test)[:,1]"
   ]
  },
  {
   "cell_type": "code",
   "execution_count": 21,
   "id": "144822f5",
   "metadata": {},
   "outputs": [
    {
     "name": "stdout",
     "output_type": "stream",
     "text": [
      "Patient Information:\n",
      "Age    41\n",
      "Name: 114, dtype: int64\n",
      "---------------------------------\n",
      "Predicted Probability of Heart Disease: 0.2956434510766427\n",
      "Actual: No\n"
     ]
    }
   ],
   "source": [
    "i = 10\n",
    "\n",
    "print('Patient Information:\\n{}'.format(X_test.iloc[i]))\n",
    "print('---------------------------------')\n",
    "print('Predicted Probability of Heart Disease: {}'.format(y_pred_prob[i]))\n",
    "print('Actual: {}'.format(y_test.iloc[i]))"
   ]
  },
  {
   "cell_type": "markdown",
   "id": "748e1c27",
   "metadata": {},
   "source": [
    "One way to analyze your model is to look at the receiver operating characteristic (ROC) curve. This shows how the true positive rate and false positive rate change as the prediction threshold changes.\n",
    "\n",
    "This value can be interpreted as how likely the model is to assign a higher probability to a positive observation compared to a negative one."
   ]
  },
  {
   "cell_type": "code",
   "execution_count": null,
   "id": "9aa57553",
   "metadata": {},
   "outputs": [],
   "source": [
    "from sklearn.metrics import roc_auc_score, roc_curve"
   ]
  },
  {
   "cell_type": "code",
   "execution_count": null,
   "id": "9fdfd2e3",
   "metadata": {},
   "outputs": [],
   "source": [
    "fp_rate, tp_rate, thresholds = roc_curve(y_test == 'Yes', y_pred_prob)\n",
    "\n",
    "plt.plot(fp_rate, tp_rate)\n",
    "plt.xlim([0.0, 1.0])\n",
    "plt.ylim([0.0, 1.0])\n",
    "plt.title('ROC curve for Heart Disease Prediction')\n",
    "plt.xlabel('False Positive Rate (1 - Specificity)')\n",
    "plt.ylabel('True Positive Rate (Sensitivity)')\n",
    "plt.grid(True)"
   ]
  },
  {
   "cell_type": "markdown",
   "id": "ad60c7dc",
   "metadata": {},
   "source": [
    "### AUC - percentage of the ROC plot that is under the curve\n",
    "\n",
    "A perfect model would have AUC = 1."
   ]
  },
  {
   "cell_type": "code",
   "execution_count": null,
   "id": "b145d91b",
   "metadata": {},
   "outputs": [],
   "source": [
    "roc_auc_score(y_test, y_pred_prob)"
   ]
  },
  {
   "cell_type": "markdown",
   "id": "e8372b08",
   "metadata": {},
   "source": [
    "## Analyzing Predictions\n",
    "\n",
    "To generate predictions, you can use the `predict` method of your model."
   ]
  },
  {
   "cell_type": "code",
   "execution_count": null,
   "id": "e60d6afc",
   "metadata": {},
   "outputs": [],
   "source": [
    "from sklearn.metrics import confusion_matrix, classification_report\n",
    "from cm import plot_confusion_matrix"
   ]
  },
  {
   "cell_type": "code",
   "execution_count": null,
   "id": "b9c9e6e8",
   "metadata": {},
   "outputs": [],
   "source": [
    "y_pred = logreg.predict(X_test)"
   ]
  },
  {
   "cell_type": "code",
   "execution_count": null,
   "id": "33915591",
   "metadata": {},
   "outputs": [],
   "source": [
    "confusion_matrix(y_test, y_pred)"
   ]
  },
  {
   "cell_type": "code",
   "execution_count": null,
   "id": "d6e31377",
   "metadata": {},
   "outputs": [],
   "source": [
    "print(classification_report(y_test, y_pred))"
   ]
  },
  {
   "cell_type": "code",
   "execution_count": null,
   "id": "3ed7f4d3",
   "metadata": {},
   "outputs": [],
   "source": [
    "plot_confusion_matrix(y_test, y_pred, labels = ['No', 'Yes'])"
   ]
  },
  {
   "cell_type": "markdown",
   "id": "5004c965",
   "metadata": {},
   "source": [
    "There are a number of metrics you can use to evalute your model. \n",
    "\n",
    "**Accuracy:** the total proportion of predictions which are correct."
   ]
  },
  {
   "cell_type": "code",
   "execution_count": null,
   "id": "44278a6a",
   "metadata": {},
   "outputs": [],
   "source": [
    "plot_confusion_matrix(y_test, y_pred, labels = ['No', 'Yes'], metric = 'accuracy')"
   ]
  },
  {
   "cell_type": "markdown",
   "id": "fec35a52",
   "metadata": {},
   "source": [
    "**Sensitivity/True Positive Rate:** The proportion of true positives (in our case, people who survived) that are identified as such."
   ]
  },
  {
   "cell_type": "code",
   "execution_count": null,
   "id": "99d40396",
   "metadata": {},
   "outputs": [],
   "source": [
    "plot_confusion_matrix(y_test, y_pred, labels = ['No', 'Yes'], metric = 'sensitivity')"
   ]
  },
  {
   "cell_type": "markdown",
   "id": "5f7c4640",
   "metadata": {},
   "source": [
    "**Specificity/True Negative Rate:** The proportion of true negatives (in our case, people who died) that are identified as such."
   ]
  },
  {
   "cell_type": "code",
   "execution_count": null,
   "id": "ade93d9a",
   "metadata": {},
   "outputs": [],
   "source": [
    "plot_confusion_matrix(y_test, y_pred, labels = ['No', 'Yes'], metric = 'specificity')"
   ]
  },
  {
   "cell_type": "markdown",
   "id": "03b4c4d0",
   "metadata": {},
   "source": [
    "**Precision:** The proportion of predicted positives that are actually positive (survived)."
   ]
  },
  {
   "cell_type": "code",
   "execution_count": null,
   "id": "6cd09006",
   "metadata": {},
   "outputs": [],
   "source": [
    "plot_confusion_matrix(y_test, y_pred, labels = ['No', 'Yes'], metric = 'precision')"
   ]
  },
  {
   "cell_type": "markdown",
   "id": "8d869426",
   "metadata": {},
   "source": [
    "We have only used a single predictor in the above model. Let's see if we can improve our model by using the rest of the predictors."
   ]
  },
  {
   "cell_type": "code",
   "execution_count": null,
   "id": "507cc2de",
   "metadata": {},
   "outputs": [],
   "source": [
    "X = heart.drop(columns = ['AHD'])\n",
    "y = heart['AHD']"
   ]
  },
  {
   "cell_type": "code",
   "execution_count": null,
   "id": "3d25501a",
   "metadata": {},
   "outputs": [],
   "source": [
    "X_train, X_test, y_train, y_test = train_test_split(X, y,\n",
    "                                                    stratify = y,     # Keep the same proportions of the target in the training and test data\n",
    "                                                    test_size = 0.25,\n",
    "                                                    random_state = 321)"
   ]
  },
  {
   "cell_type": "code",
   "execution_count": null,
   "id": "eb46ff3d",
   "metadata": {},
   "outputs": [],
   "source": [
    "logreg = LogisticRegression()\n",
    "logreg.fit(X_train, y_train)"
   ]
  },
  {
   "cell_type": "markdown",
   "id": "7f2a0f35",
   "metadata": {},
   "source": [
    "With so many predictors, it takes longer for the coefficients to converge. Let's increase the number of iterations."
   ]
  },
  {
   "cell_type": "code",
   "execution_count": null,
   "id": "3e2493f4",
   "metadata": {},
   "outputs": [],
   "source": [
    "logreg = LogisticRegression(max_iter = 10000)\n",
    "logreg.fit(X_train, y_train)"
   ]
  },
  {
   "cell_type": "markdown",
   "id": "61c0b374",
   "metadata": {},
   "source": [
    "Let's take a look at the coefficients.\n",
    "\n",
    "**Caution:** Our variables are on vastly different scales, so do not interpret the value of a coefficient as the importance."
   ]
  },
  {
   "cell_type": "code",
   "execution_count": null,
   "id": "25d26980",
   "metadata": {},
   "outputs": [],
   "source": [
    "coefficients = pd.DataFrame({\n",
    "    'variable': X.columns,\n",
    "    'coefficient': logreg.coef_[0]\n",
    "})"
   ]
  },
  {
   "cell_type": "code",
   "execution_count": null,
   "id": "967de310",
   "metadata": {},
   "outputs": [],
   "source": [
    "fig, ax = plt.subplots(figsize = (7,5))\n",
    "sns.barplot(data = coefficients,\n",
    "            x = 'coefficient', \n",
    "            y = 'variable', \n",
    "            ax = ax, \n",
    "            edgecolor = 'black')\n",
    "plt.title('Logistic Regression Coefficients')\n",
    "\n",
    "ymin, ymax = plt.ylim()\n",
    "plt.vlines(x = 0, ymin = ymin, ymax = ymax);"
   ]
  },
  {
   "cell_type": "markdown",
   "id": "0bb3eeed",
   "metadata": {},
   "source": [
    "Let's compare how our predictions change now that we are using all of the features."
   ]
  },
  {
   "cell_type": "code",
   "execution_count": null,
   "id": "d5d2a4c6",
   "metadata": {},
   "outputs": [],
   "source": [
    "y_pred_prob_all = logreg.predict_proba(X_test)[:,1]"
   ]
  },
  {
   "cell_type": "code",
   "execution_count": null,
   "id": "960f690d",
   "metadata": {},
   "outputs": [],
   "source": [
    "i = 12\n",
    "\n",
    "print('Patient Information:\\n{}'.format(X_test.iloc[i]))\n",
    "print('---------------------------------')\n",
    "print('Old Predicted Probability: {}'.format(y_pred_prob[i]))\n",
    "print('New Predicted Probability: {}'.format(y_pred_prob_all[i]))\n",
    "print('Actual: {}'.format(y_test.iloc[i]))"
   ]
  },
  {
   "cell_type": "markdown",
   "id": "80e5e3ce",
   "metadata": {},
   "source": [
    "Now, let's look at the ROC curve and score."
   ]
  },
  {
   "cell_type": "code",
   "execution_count": null,
   "id": "96956d67",
   "metadata": {},
   "outputs": [],
   "source": [
    "fp_rate, tp_rate, thresholds = roc_curve(y_test == 'Yes', y_pred_prob_all)\n",
    "\n",
    "plt.plot(fp_rate, tp_rate)\n",
    "plt.xlim([0.0, 1.0])\n",
    "plt.ylim([0.0, 1.0])\n",
    "plt.title('ROC curve for Heart Disease Prediction')\n",
    "plt.xlabel('False Positive Rate (1 - Specificity)')\n",
    "plt.ylabel('True Positive Rate (Sensitivity)')\n",
    "plt.grid(True)"
   ]
  },
  {
   "cell_type": "code",
   "execution_count": null,
   "id": "e738c5e7",
   "metadata": {},
   "outputs": [],
   "source": [
    "roc_auc_score(y_test, y_pred_prob_all)"
   ]
  },
  {
   "cell_type": "markdown",
   "id": "4bb2a9eb",
   "metadata": {},
   "source": [
    "Finally, let's look at the new accuracy score."
   ]
  },
  {
   "cell_type": "code",
   "execution_count": null,
   "id": "ec35e8a7",
   "metadata": {},
   "outputs": [],
   "source": [
    "y_pred = logreg.predict(X_test)\n",
    "\n",
    "plot_confusion_matrix(y_test, y_pred, labels = ['No', 'Yes'], metric = 'accuracy')"
   ]
  }
 ],
 "metadata": {
  "kernelspec": {
   "display_name": "Python 3",
   "language": "python",
   "name": "python3"
  },
  "language_info": {
   "codemirror_mode": {
    "name": "ipython",
    "version": 3
   },
   "file_extension": ".py",
   "mimetype": "text/x-python",
   "name": "python",
   "nbconvert_exporter": "python",
   "pygments_lexer": "ipython3",
   "version": "3.6.13"
  }
 },
 "nbformat": 4,
 "nbformat_minor": 5
}
