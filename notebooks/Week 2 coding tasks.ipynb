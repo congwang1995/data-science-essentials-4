{
 "cells": [
  {
   "cell_type": "markdown",
   "id": "b3b59add",
   "metadata": {},
   "source": [
    "New Topics:\n",
    "\n",
    " - Resources for help with coding \n",
    " - Creating a reproducible workflow\n",
    " - Merging _pandas_ DataFrames\n",
    " - Additional _pandas_ methods \n",
    " \n",
    "\n",
    "Coding Tasks:\n",
    "\n",
    "Start a new Jupyter Notebook to complete these tasks. This week, you'll be combining two different datasets.\n",
    "\n",
    "First, you'll work with a dataset containing the number of primary care physicians per county for each county in the United States. It was obtained from the Area Health Resources File, published by the [Health Resources and Services Administration](https://data.hrsa.gov/topics/health-workforce/ahrf). This data is contained in the file `primary_care_physicians.csv`.\n",
    "\n",
    "Second, the file `population_by_county.csv` contains the Census Bureau's 2019 population estimates for each US County. It also contains a column `urban`. The `urban` column uses data from the National Bureau of Economic Research to classify each county as either urban or rural. The U.S. Office of Management and Budget designates counties as metropolitan (a core urban area of 50,000 or more population), micropolitan (an urban core of at least 10,000 but less than 50,000 population), or neither. Here, a county is considered \"urban\" if it is part of a metropolitan or micropolitan area and \"rural\" if it is not."
   ]
  },
  {
   "cell_type": "markdown",
   "id": "d7dd49d0",
   "metadata": {},
   "source": [
    " 1. First, import the primary care physicians dataset (`primary_care_physicians.csv`) into a data frame named `physicians`. "
   ]
  },
  {
   "cell_type": "code",
   "execution_count": 1,
   "id": "5cb10a82",
   "metadata": {},
   "outputs": [
    {
     "data": {
      "text/html": [
       "<div>\n",
       "<style scoped>\n",
       "    .dataframe tbody tr th:only-of-type {\n",
       "        vertical-align: middle;\n",
       "    }\n",
       "\n",
       "    .dataframe tbody tr th {\n",
       "        vertical-align: top;\n",
       "    }\n",
       "\n",
       "    .dataframe thead th {\n",
       "        text-align: right;\n",
       "    }\n",
       "</style>\n",
       "<table border=\"1\" class=\"dataframe\">\n",
       "  <thead>\n",
       "    <tr style=\"text-align: right;\">\n",
       "      <th></th>\n",
       "      <th>FIPS</th>\n",
       "      <th>state</th>\n",
       "      <th>county</th>\n",
       "      <th>primary_care_physicians</th>\n",
       "    </tr>\n",
       "  </thead>\n",
       "  <tbody>\n",
       "    <tr>\n",
       "      <th>0</th>\n",
       "      <td>1001</td>\n",
       "      <td>Alabama</td>\n",
       "      <td>Autauga</td>\n",
       "      <td>26.0</td>\n",
       "    </tr>\n",
       "    <tr>\n",
       "      <th>1</th>\n",
       "      <td>1003</td>\n",
       "      <td>Alabama</td>\n",
       "      <td>Baldwin</td>\n",
       "      <td>153.0</td>\n",
       "    </tr>\n",
       "    <tr>\n",
       "      <th>2</th>\n",
       "      <td>1005</td>\n",
       "      <td>Alabama</td>\n",
       "      <td>Barbour</td>\n",
       "      <td>8.0</td>\n",
       "    </tr>\n",
       "    <tr>\n",
       "      <th>3</th>\n",
       "      <td>1007</td>\n",
       "      <td>Alabama</td>\n",
       "      <td>Bibb</td>\n",
       "      <td>12.0</td>\n",
       "    </tr>\n",
       "    <tr>\n",
       "      <th>4</th>\n",
       "      <td>1009</td>\n",
       "      <td>Alabama</td>\n",
       "      <td>Blount</td>\n",
       "      <td>12.0</td>\n",
       "    </tr>\n",
       "  </tbody>\n",
       "</table>\n",
       "</div>"
      ],
      "text/plain": [
       "   FIPS    state   county  primary_care_physicians\n",
       "0  1001  Alabama  Autauga                     26.0\n",
       "1  1003  Alabama  Baldwin                    153.0\n",
       "2  1005  Alabama  Barbour                      8.0\n",
       "3  1007  Alabama     Bibb                     12.0\n",
       "4  1009  Alabama   Blount                     12.0"
      ]
     },
     "execution_count": 1,
     "metadata": {},
     "output_type": "execute_result"
    }
   ],
   "source": [
    "import pandas as pd\n",
    "physicians = pd.read_csv('../data/primary_care_physicians.csv')\n",
    "physicians.head()"
   ]
  },
  {
   "cell_type": "markdown",
   "id": "eefdfa46",
   "metadata": {},
   "source": [
    " 2. Filter `physicians` down to just the counties in Tennessee. Save the filtered dataframe back to `physicians`. Verify that the resulting dataframe has 95 rows."
   ]
  },
  {
   "cell_type": "code",
   "execution_count": 2,
   "id": "6ad63450",
   "metadata": {},
   "outputs": [
    {
     "data": {
      "text/plain": [
       "(95, 4)"
      ]
     },
     "execution_count": 2,
     "metadata": {},
     "output_type": "execute_result"
    }
   ],
   "source": [
    "physicians = physicians.loc[physicians['state']=='Tennessee']\n",
    "physicians.shape"
   ]
  },
  {
   "cell_type": "markdown",
   "id": "8b239c29",
   "metadata": {},
   "source": [
    " 3. Look at the distribution of the number of primary care physicians. What do you notice?"
   ]
  },
  {
   "cell_type": "code",
   "execution_count": 3,
   "id": "e3eaf7b6",
   "metadata": {},
   "outputs": [
    {
     "data": {
      "text/plain": [
       "count     95.000000\n",
       "mean      51.042105\n",
       "std      129.311426\n",
       "min        0.000000\n",
       "25%        4.500000\n",
       "50%       12.000000\n",
       "75%       26.500000\n",
       "max      806.000000\n",
       "Name: primary_care_physicians, dtype: float64"
      ]
     },
     "execution_count": 3,
     "metadata": {},
     "output_type": "execute_result"
    }
   ],
   "source": [
    "physicians['primary_care_physicians'].describe()"
   ]
  },
  {
   "cell_type": "markdown",
   "id": "0bb0f066",
   "metadata": {},
   "source": [
    "The distribution is right skewed, with a large standard deviation. The mean is driven by large hospitals."
   ]
  },
  {
   "cell_type": "markdown",
   "id": "a89dc595",
   "metadata": {},
   "source": [
    " 4. Now, import the population by county dataset (`population_by_county.csv`) into a DataFrame named `population`."
   ]
  },
  {
   "cell_type": "code",
   "execution_count": 4,
   "id": "e3133420",
   "metadata": {},
   "outputs": [
    {
     "data": {
      "text/html": [
       "<div>\n",
       "<style scoped>\n",
       "    .dataframe tbody tr th:only-of-type {\n",
       "        vertical-align: middle;\n",
       "    }\n",
       "\n",
       "    .dataframe tbody tr th {\n",
       "        vertical-align: top;\n",
       "    }\n",
       "\n",
       "    .dataframe thead th {\n",
       "        text-align: right;\n",
       "    }\n",
       "</style>\n",
       "<table border=\"1\" class=\"dataframe\">\n",
       "  <thead>\n",
       "    <tr style=\"text-align: right;\">\n",
       "      <th></th>\n",
       "      <th>FIPS</th>\n",
       "      <th>population</th>\n",
       "      <th>county</th>\n",
       "      <th>state</th>\n",
       "      <th>urban</th>\n",
       "    </tr>\n",
       "  </thead>\n",
       "  <tbody>\n",
       "    <tr>\n",
       "      <th>0</th>\n",
       "      <td>17051</td>\n",
       "      <td>21565</td>\n",
       "      <td>Fayette County</td>\n",
       "      <td>ILLINOIS</td>\n",
       "      <td>Rural</td>\n",
       "    </tr>\n",
       "    <tr>\n",
       "      <th>1</th>\n",
       "      <td>17107</td>\n",
       "      <td>29003</td>\n",
       "      <td>Logan County</td>\n",
       "      <td>ILLINOIS</td>\n",
       "      <td>Rural</td>\n",
       "    </tr>\n",
       "    <tr>\n",
       "      <th>2</th>\n",
       "      <td>17165</td>\n",
       "      <td>23994</td>\n",
       "      <td>Saline County</td>\n",
       "      <td>ILLINOIS</td>\n",
       "      <td>Rural</td>\n",
       "    </tr>\n",
       "    <tr>\n",
       "      <th>3</th>\n",
       "      <td>17097</td>\n",
       "      <td>701473</td>\n",
       "      <td>Lake County</td>\n",
       "      <td>ILLINOIS</td>\n",
       "      <td>Urban</td>\n",
       "    </tr>\n",
       "    <tr>\n",
       "      <th>4</th>\n",
       "      <td>17127</td>\n",
       "      <td>14219</td>\n",
       "      <td>Massac County</td>\n",
       "      <td>ILLINOIS</td>\n",
       "      <td>Rural</td>\n",
       "    </tr>\n",
       "  </tbody>\n",
       "</table>\n",
       "</div>"
      ],
      "text/plain": [
       "    FIPS  population          county     state  urban\n",
       "0  17051       21565  Fayette County  ILLINOIS  Rural\n",
       "1  17107       29003    Logan County  ILLINOIS  Rural\n",
       "2  17165       23994   Saline County  ILLINOIS  Rural\n",
       "3  17097      701473     Lake County  ILLINOIS  Urban\n",
       "4  17127       14219   Massac County  ILLINOIS  Rural"
      ]
     },
     "execution_count": 4,
     "metadata": {},
     "output_type": "execute_result"
    }
   ],
   "source": [
    "population = pd.read_csv('../data/population_by_county.csv')\n",
    "population.head()"
   ]
  },
  {
   "cell_type": "markdown",
   "id": "0622b29d",
   "metadata": {},
   "source": [
    " 5. Merge the `physicians` DataFrame with the `population` DataFrame. Keep only the values for Tennessee. When you merge, be sure the include both the `population` and `urban` columns in the merged results. Save the result of the merge back to `physicians`.\n",
    " "
   ]
  },
  {
   "cell_type": "code",
   "execution_count": 6,
   "id": "ac7df73b",
   "metadata": {},
   "outputs": [],
   "source": [
    "physicians = pd.merge(left=physicians,right=population[['FIPS','population','urban']],on='FIPS')"
   ]
  },
  {
   "cell_type": "code",
   "execution_count": 7,
   "id": "1ee42898",
   "metadata": {},
   "outputs": [
    {
     "data": {
      "text/html": [
       "<div>\n",
       "<style scoped>\n",
       "    .dataframe tbody tr th:only-of-type {\n",
       "        vertical-align: middle;\n",
       "    }\n",
       "\n",
       "    .dataframe tbody tr th {\n",
       "        vertical-align: top;\n",
       "    }\n",
       "\n",
       "    .dataframe thead th {\n",
       "        text-align: right;\n",
       "    }\n",
       "</style>\n",
       "<table border=\"1\" class=\"dataframe\">\n",
       "  <thead>\n",
       "    <tr style=\"text-align: right;\">\n",
       "      <th></th>\n",
       "      <th>FIPS</th>\n",
       "      <th>state</th>\n",
       "      <th>county</th>\n",
       "      <th>primary_care_physicians</th>\n",
       "      <th>population</th>\n",
       "      <th>urban</th>\n",
       "    </tr>\n",
       "  </thead>\n",
       "  <tbody>\n",
       "    <tr>\n",
       "      <th>0</th>\n",
       "      <td>47001</td>\n",
       "      <td>Tennessee</td>\n",
       "      <td>Anderson</td>\n",
       "      <td>39.0</td>\n",
       "      <td>76061</td>\n",
       "      <td>Urban</td>\n",
       "    </tr>\n",
       "    <tr>\n",
       "      <th>1</th>\n",
       "      <td>47003</td>\n",
       "      <td>Tennessee</td>\n",
       "      <td>Bedford</td>\n",
       "      <td>15.0</td>\n",
       "      <td>48292</td>\n",
       "      <td>Rural</td>\n",
       "    </tr>\n",
       "    <tr>\n",
       "      <th>2</th>\n",
       "      <td>47005</td>\n",
       "      <td>Tennessee</td>\n",
       "      <td>Benton</td>\n",
       "      <td>3.0</td>\n",
       "      <td>16140</td>\n",
       "      <td>Rural</td>\n",
       "    </tr>\n",
       "    <tr>\n",
       "      <th>3</th>\n",
       "      <td>47007</td>\n",
       "      <td>Tennessee</td>\n",
       "      <td>Bledsoe</td>\n",
       "      <td>1.0</td>\n",
       "      <td>14836</td>\n",
       "      <td>Rural</td>\n",
       "    </tr>\n",
       "    <tr>\n",
       "      <th>4</th>\n",
       "      <td>47009</td>\n",
       "      <td>Tennessee</td>\n",
       "      <td>Blount</td>\n",
       "      <td>90.0</td>\n",
       "      <td>129927</td>\n",
       "      <td>Urban</td>\n",
       "    </tr>\n",
       "    <tr>\n",
       "      <th>...</th>\n",
       "      <td>...</td>\n",
       "      <td>...</td>\n",
       "      <td>...</td>\n",
       "      <td>...</td>\n",
       "      <td>...</td>\n",
       "      <td>...</td>\n",
       "    </tr>\n",
       "    <tr>\n",
       "      <th>90</th>\n",
       "      <td>47181</td>\n",
       "      <td>Tennessee</td>\n",
       "      <td>Wayne</td>\n",
       "      <td>5.0</td>\n",
       "      <td>16693</td>\n",
       "      <td>Rural</td>\n",
       "    </tr>\n",
       "    <tr>\n",
       "      <th>91</th>\n",
       "      <td>47183</td>\n",
       "      <td>Tennessee</td>\n",
       "      <td>Weakley</td>\n",
       "      <td>18.0</td>\n",
       "      <td>33510</td>\n",
       "      <td>Rural</td>\n",
       "    </tr>\n",
       "    <tr>\n",
       "      <th>92</th>\n",
       "      <td>47185</td>\n",
       "      <td>Tennessee</td>\n",
       "      <td>White</td>\n",
       "      <td>9.0</td>\n",
       "      <td>26800</td>\n",
       "      <td>Rural</td>\n",
       "    </tr>\n",
       "    <tr>\n",
       "      <th>93</th>\n",
       "      <td>47187</td>\n",
       "      <td>Tennessee</td>\n",
       "      <td>Williamson</td>\n",
       "      <td>338.0</td>\n",
       "      <td>225389</td>\n",
       "      <td>Urban</td>\n",
       "    </tr>\n",
       "    <tr>\n",
       "      <th>94</th>\n",
       "      <td>47189</td>\n",
       "      <td>Tennessee</td>\n",
       "      <td>Wilson</td>\n",
       "      <td>43.0</td>\n",
       "      <td>136666</td>\n",
       "      <td>Urban</td>\n",
       "    </tr>\n",
       "  </tbody>\n",
       "</table>\n",
       "<p>95 rows × 6 columns</p>\n",
       "</div>"
      ],
      "text/plain": [
       "     FIPS      state      county  primary_care_physicians  population  urban\n",
       "0   47001  Tennessee    Anderson                     39.0       76061  Urban\n",
       "1   47003  Tennessee     Bedford                     15.0       48292  Rural\n",
       "2   47005  Tennessee      Benton                      3.0       16140  Rural\n",
       "3   47007  Tennessee     Bledsoe                      1.0       14836  Rural\n",
       "4   47009  Tennessee      Blount                     90.0      129927  Urban\n",
       "..    ...        ...         ...                      ...         ...    ...\n",
       "90  47181  Tennessee       Wayne                      5.0       16693  Rural\n",
       "91  47183  Tennessee     Weakley                     18.0       33510  Rural\n",
       "92  47185  Tennessee       White                      9.0       26800  Rural\n",
       "93  47187  Tennessee  Williamson                    338.0      225389  Urban\n",
       "94  47189  Tennessee      Wilson                     43.0      136666  Urban\n",
       "\n",
       "[95 rows x 6 columns]"
      ]
     },
     "execution_count": 7,
     "metadata": {},
     "output_type": "execute_result"
    }
   ],
   "source": [
    "physicians"
   ]
  },
  {
   "cell_type": "markdown",
   "id": "c7563019",
   "metadata": {},
   "source": [
    " 6. How many Tennessee counties are considered urban?"
   ]
  },
  {
   "cell_type": "code",
   "execution_count": 10,
   "id": "7aa3e625",
   "metadata": {},
   "outputs": [
    {
     "data": {
      "text/plain": [
       "Rural    57\n",
       "Urban    38\n",
       "Name: urban, dtype: int64"
      ]
     },
     "execution_count": 10,
     "metadata": {},
     "output_type": "execute_result"
    }
   ],
   "source": [
    "physicians.loc[physicians['urban']=='Urban'].shape\n",
    "# 38\n",
    "physicians['urban'].value_counts()"
   ]
  },
  {
   "cell_type": "markdown",
   "id": "1caeca2a",
   "metadata": {},
   "source": [
    " 7. The State Health Access Data Assistance Center (SHADAC) (https://www.shadac.org/) classifies counties into three groups based on the number of residents per primary care physician. First, counties with fewer than 1500 residents per primary care physician are considered to have an \"adequate\" supply. Counties with at least 1500 residents but fewer than 3500 residents per primary care physician are considered to have a \"moderately inadequate\" supply, and counties with at least 3500 residents per primary care physician are considered to have a \"low inadequate\" supply. How many counties in Tennessee are in each group?"
   ]
  },
  {
   "cell_type": "code",
   "execution_count": 28,
   "id": "84141a8b",
   "metadata": {},
   "outputs": [
    {
     "data": {
      "text/plain": [
       "14"
      ]
     },
     "execution_count": 28,
     "metadata": {},
     "output_type": "execute_result"
    }
   ],
   "source": [
    "physicians.loc[(physicians['population'] < 1500*physicians['primary_care_physicians'])]['county'].count()\n",
    "# 14 adequate"
   ]
  },
  {
   "cell_type": "code",
   "execution_count": 29,
   "id": "440475ea",
   "metadata": {},
   "outputs": [
    {
     "data": {
      "text/plain": [
       "50"
      ]
     },
     "execution_count": 29,
     "metadata": {},
     "output_type": "execute_result"
    }
   ],
   "source": [
    "physicians.loc[(physicians['population'] >= 1500*physicians['primary_care_physicians'])& (physicians['population'] <3500*physicians['primary_care_physicians'])]['county'].count()\n",
    "# 50 moderately inadequate"
   ]
  },
  {
   "cell_type": "code",
   "execution_count": 30,
   "id": "ed50d1a4",
   "metadata": {},
   "outputs": [
    {
     "data": {
      "text/plain": [
       "31"
      ]
     },
     "execution_count": 30,
     "metadata": {},
     "output_type": "execute_result"
    }
   ],
   "source": [
    "physicians.loc[(physicians['population'] >= 3500*physicians['primary_care_physicians'])]['county'].count()\n",
    "# 31 low inadequat"
   ]
  },
  {
   "cell_type": "markdown",
   "id": "436a3100",
   "metadata": {},
   "source": [
    "  8. Does there appear to be any detectable relationship between whether a county is urban or rural and its supply of primary care physicians?"
   ]
  },
  {
   "cell_type": "code",
   "execution_count": 34,
   "id": "59dc9f1d",
   "metadata": {},
   "outputs": [
    {
     "data": {
      "text/plain": [
       "count        14\n",
       "unique        2\n",
       "top       Urban\n",
       "freq          9\n",
       "Name: urban, dtype: object"
      ]
     },
     "execution_count": 34,
     "metadata": {},
     "output_type": "execute_result"
    }
   ],
   "source": [
    "physicians.loc[(physicians['population'] < 1500*physicians['primary_care_physicians'])]['urban'].describe()"
   ]
  },
  {
   "cell_type": "code",
   "execution_count": 35,
   "id": "9ef29029",
   "metadata": {},
   "outputs": [
    {
     "data": {
      "text/plain": [
       "count        50\n",
       "unique        2\n",
       "top       Rural\n",
       "freq         31\n",
       "Name: urban, dtype: object"
      ]
     },
     "execution_count": 35,
     "metadata": {},
     "output_type": "execute_result"
    }
   ],
   "source": [
    "physicians.loc[(physicians['population'] >= 1500*physicians['primary_care_physicians'])& (physicians['population'] <3500*physicians['primary_care_physicians'])]['urban'].describe()"
   ]
  },
  {
   "cell_type": "code",
   "execution_count": 36,
   "id": "c16803c0",
   "metadata": {},
   "outputs": [
    {
     "data": {
      "text/plain": [
       "count        31\n",
       "unique        2\n",
       "top       Rural\n",
       "freq         21\n",
       "Name: urban, dtype: object"
      ]
     },
     "execution_count": 36,
     "metadata": {},
     "output_type": "execute_result"
    }
   ],
   "source": [
    "physicians.loc[(physicians['population'] >= 3500*physicians['primary_care_physicians'])]['urban'].describe()"
   ]
  },
  {
   "cell_type": "code",
   "execution_count": null,
   "id": "96afa909",
   "metadata": {},
   "outputs": [],
   "source": [
    "# urban counties are more likely to be adequate than rural counties."
   ]
  }
 ],
 "metadata": {
  "kernelspec": {
   "display_name": "Python 3",
   "language": "python",
   "name": "python3"
  },
  "language_info": {
   "codemirror_mode": {
    "name": "ipython",
    "version": 3
   },
   "file_extension": ".py",
   "mimetype": "text/x-python",
   "name": "python",
   "nbconvert_exporter": "python",
   "pygments_lexer": "ipython3",
   "version": "3.6.13"
  }
 },
 "nbformat": 4,
 "nbformat_minor": 5
}
