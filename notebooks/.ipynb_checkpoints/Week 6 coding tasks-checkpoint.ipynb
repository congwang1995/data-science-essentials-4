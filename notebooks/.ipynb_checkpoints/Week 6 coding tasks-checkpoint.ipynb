{
 "cells": [
  {
   "cell_type": "markdown",
   "id": "c6d6dd3d",
   "metadata": {},
   "source": [
    "##### Week 6:\n",
    "More machine learning\n",
    "    - Tree-based models\n",
    "    - Regularization\n",
    " \n",
    " Coding task:\n",
    "\n",
    " Try using regularization or a tree-based model to improve your model's performance on the BRFSS dataset.\n"
   ]
  },
  {
   "cell_type": "code",
   "execution_count": 18,
   "id": "9ff44323",
   "metadata": {},
   "outputs": [],
   "source": [
    "import pandas as pd\n",
    "import matplotlib.pyplot as plt\n",
    "import seaborn as sns\n",
    "from sklearn.model_selection import train_test_split\n",
    "from sklearn.linear_model import LogisticRegression\n",
    "from cm import plot_confusion_matrix\n",
    "from sklearn.metrics import roc_auc_score, roc_curve\n",
    "from sklearn.tree import DecisionTreeClassifier\n",
    "from sklearn.ensemble import RandomForestClassifier"
   ]
  },
  {
   "cell_type": "code",
   "execution_count": 11,
   "id": "d4eb889c",
   "metadata": {},
   "outputs": [],
   "source": [
    "brfss = pd.read_csv('../data/brfss.csv')"
   ]
  },
  {
   "cell_type": "code",
   "execution_count": 12,
   "id": "4f9b4f66",
   "metadata": {},
   "outputs": [
    {
     "data": {
      "text/html": [
       "<div>\n",
       "<style scoped>\n",
       "    .dataframe tbody tr th:only-of-type {\n",
       "        vertical-align: middle;\n",
       "    }\n",
       "\n",
       "    .dataframe tbody tr th {\n",
       "        vertical-align: top;\n",
       "    }\n",
       "\n",
       "    .dataframe thead th {\n",
       "        text-align: right;\n",
       "    }\n",
       "</style>\n",
       "<table border=\"1\" class=\"dataframe\">\n",
       "  <thead>\n",
       "    <tr style=\"text-align: right;\">\n",
       "      <th></th>\n",
       "      <th>GENHLTH</th>\n",
       "      <th>HLTHPLN1</th>\n",
       "      <th>PERSDOC2</th>\n",
       "      <th>MEDCOST</th>\n",
       "      <th>CHECKUP1</th>\n",
       "      <th>_RFHYPE5</th>\n",
       "      <th>TOLDHI2</th>\n",
       "      <th>CVDINFR4</th>\n",
       "      <th>CVDCRHD4</th>\n",
       "      <th>CVDSTRK3</th>\n",
       "      <th>...</th>\n",
       "      <th>EXERANY2</th>\n",
       "      <th>_METSTAT</th>\n",
       "      <th>_URBSTAT</th>\n",
       "      <th>_IMPRACE</th>\n",
       "      <th>_RFBMI5</th>\n",
       "      <th>_RFSMOK3</th>\n",
       "      <th>_RFBING5</th>\n",
       "      <th>_RFDRHV7</th>\n",
       "      <th>_TOTINDA</th>\n",
       "      <th>target</th>\n",
       "    </tr>\n",
       "  </thead>\n",
       "  <tbody>\n",
       "    <tr>\n",
       "      <th>0</th>\n",
       "      <td>Good</td>\n",
       "      <td>Yes</td>\n",
       "      <td>Yes, only one</td>\n",
       "      <td>No</td>\n",
       "      <td>Within past year (anytime less than 12 months ...</td>\n",
       "      <td>Yes</td>\n",
       "      <td>Yes</td>\n",
       "      <td>No</td>\n",
       "      <td>No</td>\n",
       "      <td>No</td>\n",
       "      <td>...</td>\n",
       "      <td>No</td>\n",
       "      <td>Metropolitan counties (_URBNRRL = 1,2,3,4)</td>\n",
       "      <td>Urban counties (_URBNRRL = 1,2,3,4,5)</td>\n",
       "      <td>Black, Non-Hispanic</td>\n",
       "      <td>Yes</td>\n",
       "      <td>No</td>\n",
       "      <td>No</td>\n",
       "      <td>No</td>\n",
       "      <td>No physical activity or exercise in last 30 days</td>\n",
       "      <td>True</td>\n",
       "    </tr>\n",
       "    <tr>\n",
       "      <th>1</th>\n",
       "      <td>Fair</td>\n",
       "      <td>Yes</td>\n",
       "      <td>Yes, only one</td>\n",
       "      <td>No</td>\n",
       "      <td>Within past year (anytime less than 12 months ...</td>\n",
       "      <td>No</td>\n",
       "      <td>No</td>\n",
       "      <td>No</td>\n",
       "      <td>No</td>\n",
       "      <td>No</td>\n",
       "      <td>...</td>\n",
       "      <td>Yes</td>\n",
       "      <td>Metropolitan counties (_URBNRRL = 1,2,3,4)</td>\n",
       "      <td>Urban counties (_URBNRRL = 1,2,3,4,5)</td>\n",
       "      <td>White, Non-Hispanic</td>\n",
       "      <td>No</td>\n",
       "      <td>No</td>\n",
       "      <td>No</td>\n",
       "      <td>No</td>\n",
       "      <td>Had physical activity or exercise</td>\n",
       "      <td>True</td>\n",
       "    </tr>\n",
       "    <tr>\n",
       "      <th>2</th>\n",
       "      <td>Good</td>\n",
       "      <td>Yes</td>\n",
       "      <td>More than one</td>\n",
       "      <td>No</td>\n",
       "      <td>Within past year (anytime less than 12 months ...</td>\n",
       "      <td>Yes</td>\n",
       "      <td>No</td>\n",
       "      <td>No</td>\n",
       "      <td>No</td>\n",
       "      <td>No</td>\n",
       "      <td>...</td>\n",
       "      <td>Yes</td>\n",
       "      <td>Metropolitan counties (_URBNRRL = 1,2,3,4)</td>\n",
       "      <td>Urban counties (_URBNRRL = 1,2,3,4,5)</td>\n",
       "      <td>Black, Non-Hispanic</td>\n",
       "      <td>Yes</td>\n",
       "      <td>No</td>\n",
       "      <td>No</td>\n",
       "      <td>No</td>\n",
       "      <td>Had physical activity or exercise</td>\n",
       "      <td>True</td>\n",
       "    </tr>\n",
       "    <tr>\n",
       "      <th>3</th>\n",
       "      <td>Very good</td>\n",
       "      <td>Yes</td>\n",
       "      <td>Yes, only one</td>\n",
       "      <td>No</td>\n",
       "      <td>Within past year (anytime less than 12 months ...</td>\n",
       "      <td>No</td>\n",
       "      <td>No</td>\n",
       "      <td>No</td>\n",
       "      <td>No</td>\n",
       "      <td>No</td>\n",
       "      <td>...</td>\n",
       "      <td>Yes</td>\n",
       "      <td>Nonmetropolitan counties (_URBNRRL = 5,6)</td>\n",
       "      <td>Rural counties (_URBNRRL = 6)</td>\n",
       "      <td>White, Non-Hispanic</td>\n",
       "      <td>Yes</td>\n",
       "      <td>Yes</td>\n",
       "      <td>No</td>\n",
       "      <td>No</td>\n",
       "      <td>Had physical activity or exercise</td>\n",
       "      <td>True</td>\n",
       "    </tr>\n",
       "    <tr>\n",
       "      <th>4</th>\n",
       "      <td>Poor</td>\n",
       "      <td>Yes</td>\n",
       "      <td>Yes, only one</td>\n",
       "      <td>No</td>\n",
       "      <td>Within past year (anytime less than 12 months ...</td>\n",
       "      <td>No</td>\n",
       "      <td>Yes</td>\n",
       "      <td>No</td>\n",
       "      <td>No</td>\n",
       "      <td>No</td>\n",
       "      <td>...</td>\n",
       "      <td>No</td>\n",
       "      <td>Metropolitan counties (_URBNRRL = 1,2,3,4)</td>\n",
       "      <td>Urban counties (_URBNRRL = 1,2,3,4,5)</td>\n",
       "      <td>White, Non-Hispanic</td>\n",
       "      <td>No</td>\n",
       "      <td>No</td>\n",
       "      <td>No</td>\n",
       "      <td>No</td>\n",
       "      <td>No physical activity or exercise in last 30 days</td>\n",
       "      <td>True</td>\n",
       "    </tr>\n",
       "  </tbody>\n",
       "</table>\n",
       "<p>5 rows × 40 columns</p>\n",
       "</div>"
      ],
      "text/plain": [
       "     GENHLTH HLTHPLN1       PERSDOC2 MEDCOST  \\\n",
       "0       Good      Yes  Yes, only one      No   \n",
       "1       Fair      Yes  Yes, only one      No   \n",
       "2       Good      Yes  More than one      No   \n",
       "3  Very good      Yes  Yes, only one      No   \n",
       "4       Poor      Yes  Yes, only one      No   \n",
       "\n",
       "                                            CHECKUP1 _RFHYPE5 TOLDHI2  \\\n",
       "0  Within past year (anytime less than 12 months ...      Yes     Yes   \n",
       "1  Within past year (anytime less than 12 months ...       No      No   \n",
       "2  Within past year (anytime less than 12 months ...      Yes      No   \n",
       "3  Within past year (anytime less than 12 months ...       No      No   \n",
       "4  Within past year (anytime less than 12 months ...       No     Yes   \n",
       "\n",
       "  CVDINFR4 CVDCRHD4 CVDSTRK3  ... EXERANY2  \\\n",
       "0       No       No       No  ...       No   \n",
       "1       No       No       No  ...      Yes   \n",
       "2       No       No       No  ...      Yes   \n",
       "3       No       No       No  ...      Yes   \n",
       "4       No       No       No  ...       No   \n",
       "\n",
       "                                     _METSTAT  \\\n",
       "0  Metropolitan counties (_URBNRRL = 1,2,3,4)   \n",
       "1  Metropolitan counties (_URBNRRL = 1,2,3,4)   \n",
       "2  Metropolitan counties (_URBNRRL = 1,2,3,4)   \n",
       "3   Nonmetropolitan counties (_URBNRRL = 5,6)   \n",
       "4  Metropolitan counties (_URBNRRL = 1,2,3,4)   \n",
       "\n",
       "                                _URBSTAT             _IMPRACE _RFBMI5  \\\n",
       "0  Urban counties (_URBNRRL = 1,2,3,4,5)  Black, Non-Hispanic     Yes   \n",
       "1  Urban counties (_URBNRRL = 1,2,3,4,5)  White, Non-Hispanic      No   \n",
       "2  Urban counties (_URBNRRL = 1,2,3,4,5)  Black, Non-Hispanic     Yes   \n",
       "3          Rural counties (_URBNRRL = 6)  White, Non-Hispanic     Yes   \n",
       "4  Urban counties (_URBNRRL = 1,2,3,4,5)  White, Non-Hispanic      No   \n",
       "\n",
       "  _RFSMOK3 _RFBING5 _RFDRHV7  \\\n",
       "0       No       No       No   \n",
       "1       No       No       No   \n",
       "2       No       No       No   \n",
       "3      Yes       No       No   \n",
       "4       No       No       No   \n",
       "\n",
       "                                           _TOTINDA target  \n",
       "0  No physical activity or exercise in last 30 days   True  \n",
       "1                 Had physical activity or exercise   True  \n",
       "2                 Had physical activity or exercise   True  \n",
       "3                 Had physical activity or exercise   True  \n",
       "4  No physical activity or exercise in last 30 days   True  \n",
       "\n",
       "[5 rows x 40 columns]"
      ]
     },
     "execution_count": 12,
     "metadata": {},
     "output_type": "execute_result"
    }
   ],
   "source": [
    "brfss.head()"
   ]
  },
  {
   "cell_type": "markdown",
   "id": "b3b14fc2",
   "metadata": {},
   "source": [
    "## Logistic regression model"
   ]
  },
  {
   "cell_type": "code",
   "execution_count": 13,
   "id": "8672891a",
   "metadata": {},
   "outputs": [
    {
     "data": {
      "image/png": "[encoded data removed]",
      "text/plain": [
       "<Figure size 432x432 with 1 Axes>"
      ]
     },
     "metadata": {
      "needs_background": "light"
     },
     "output_type": "display_data"
    },
    {
     "data": {
      "image/png": "[encoded data removed]",
      "text/plain": [
       "<Figure size 432x432 with 1 Axes>"
      ]
     },
     "metadata": {
      "needs_background": "light"
     },
     "output_type": "display_data"
    }
   ],
   "source": [
    "categorical_variables = ['GENHLTH', 'HLTHPLN1', 'PERSDOC2', 'MEDCOST']\n",
    "brfss = pd.get_dummies(brfss, columns = categorical_variables)\n",
    "\n",
    "# X = brfss.drop(columns = ['AHD'])\n",
    "X = brfss[['GENHLTH_Good','HLTHPLN1_No','PERSDOC2_More than one','MEDCOST_No']]\n",
    "y = brfss['target']\n",
    "X_train, X_test, y_train, y_test = train_test_split(X, y,\n",
    "                                                    stratify = y,     # Keep the same proportions of the target in the training and test data\n",
    "                                                    test_size = 0.25,\n",
    "                                                    random_state = 321)\n",
    "logreg = LogisticRegression(max_iter = 10000)\n",
    "logreg.fit(X_train, y_train)\n",
    "y_pred_prob = logreg.predict_proba(X_test)[:,1]\n",
    "roc_auc_score(y_test, y_pred_prob)\n",
    "y_pred = logreg.predict(X_test)\n",
    "y_pred = logreg.predict(X_test)\n",
    "plot_confusion_matrix(y_test, y_pred, labels = ['No', 'Yes'], metric = 'accuracy')\n",
    "plot_confusion_matrix(y_test, y_pred, labels = ['No', 'Yes'], metric = 'accuracy')\n"
   ]
  },
  {
   "cell_type": "markdown",
   "id": "13eb0ebd",
   "metadata": {},
   "source": [
    "## Tree-based models"
   ]
  },
  {
   "cell_type": "code",
   "execution_count": 14,
   "id": "fb66c838",
   "metadata": {},
   "outputs": [],
   "source": [
    "tree = DecisionTreeClassifier(random_state = 321).fit(X_train, y_train)"
   ]
  },
  {
   "cell_type": "code",
   "execution_count": 15,
   "id": "cdd2d03f",
   "metadata": {},
   "outputs": [
    {
     "data": {
      "image/png": "[encoded data removed]",
      "text/plain": [
       "<Figure size 432x432 with 1 Axes>"
      ]
     },
     "metadata": {
      "needs_background": "light"
     },
     "output_type": "display_data"
    }
   ],
   "source": [
    "y_pred = tree.predict(X_test)\n",
    "plot_confusion_matrix(y_train, tree.predict(X_train), labels = ['No', 'Yes'], metric = 'accuracy')"
   ]
  },
  {
   "cell_type": "code",
   "execution_count": 16,
   "id": "67ea80d5",
   "metadata": {},
   "outputs": [
    {
     "data": {
      "image/png": "[encoded data removed]",
      "text/plain": [
       "<Figure size 432x432 with 1 Axes>"
      ]
     },
     "metadata": {
      "needs_background": "light"
     },
     "output_type": "display_data"
    }
   ],
   "source": [
    "y_pred = tree.predict(X_test)\n",
    "plot_confusion_matrix(y_test, y_pred, labels = ['No', 'Yes'], metric = 'accuracy')"
   ]
  },
  {
   "cell_type": "code",
   "execution_count": 17,
   "id": "2bc35e8e",
   "metadata": {},
   "outputs": [
    {
     "data": {
      "text/plain": [
       "0.567927585177071"
      ]
     },
     "execution_count": 17,
     "metadata": {},
     "output_type": "execute_result"
    }
   ],
   "source": [
    "roc_auc_score(y_test, tree.predict_proba(X_test)[:,1])"
   ]
  },
  {
   "cell_type": "code",
   "execution_count": 19,
   "id": "3bc7134e",
   "metadata": {},
   "outputs": [
    {
     "data": {
      "text/plain": [
       "0.567927585177071"
      ]
     },
     "execution_count": 19,
     "metadata": {},
     "output_type": "execute_result"
    },
    {
     "data": {
      "image/png": "[encoded data removed]",
      "text/plain": [
       "<Figure size 432x432 with 1 Axes>"
      ]
     },
     "metadata": {
      "needs_background": "light"
     },
     "output_type": "display_data"
    }
   ],
   "source": [
    "forest = RandomForestClassifier(random_state = 321)\n",
    "forest.fit(X_train, y_train)\n",
    "forest = RandomForestClassifier(random_state = 321)\n",
    "forest.fit(X_train, y_train)\n",
    "y_pred = forest.predict(X_test)\n",
    "plot_confusion_matrix(y_test, y_pred, labels = ['No', 'Yes'], metric = 'accuracy')\n",
    "roc_auc_score(y_test, forest.predict_proba(X_test)[:,1])\n",
    "roc_auc_score(y_test, forest.predict_proba(X_test)[:,1])\n"
   ]
  },
  {
   "cell_type": "code",
   "execution_count": null,
   "id": "8e6d4874",
   "metadata": {},
   "outputs": [],
   "source": [
    "forest = RandomForestClassifier(n_estimators = 1000, max_depth = 5, min_samples_leaf = 5, random_state = 321)\n",
    "forest.fit(X_train, y_train)"
   ]
  },
  {
   "cell_type": "code",
   "execution_count": null,
   "id": "5b1bb2fb",
   "metadata": {},
   "outputs": [],
   "source": [
    "y_pred = forest.predict(X_test)\n",
    "plot_confusion_matrix(y_test, y_pred, labels = ['No', 'Yes'], metric = 'accuracy')"
   ]
  },
  {
   "cell_type": "code",
   "execution_count": null,
   "id": "ebb620c0",
   "metadata": {},
   "outputs": [],
   "source": [
    "roc_auc_score(y_test, forest.predict_proba(X_test)[:,1])"
   ]
  },
  {
   "cell_type": "code",
   "execution_count": null,
   "id": "06a5b66e",
   "metadata": {},
   "outputs": [],
   "source": [
    "importances = pd.DataFrame({'variable': X.columns,\n",
    "                           'importance': forest.feature_importances_}).sort_values('importance', ascending = False)\n",
    "\n",
    "\n",
    "fig, ax = plt.subplots(figsize = (7,8))\n",
    "sns.barplot(data = importances,\n",
    "            x = 'importance', y = 'variable', ax = ax, edgecolor = 'black')\n",
    "plt.title('Random Forest Feature Importance');"
   ]
  }
 ],
 "metadata": {
  "kernelspec": {
   "display_name": "Python 3",
   "language": "python",
   "name": "python3"
  },
  "language_info": {
   "codemirror_mode": {
    "name": "ipython",
    "version": 3
   },
   "file_extension": ".py",
   "mimetype": "text/x-python",
   "name": "python",
   "nbconvert_exporter": "python",
   "pygments_lexer": "ipython3",
   "version": "3.6.13"
  }
 },
 "nbformat": 4,
 "nbformat_minor": 5
}
